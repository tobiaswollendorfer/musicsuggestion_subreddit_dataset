{
 "cells": [
  {
   "cell_type": "code",
   "execution_count": 1,
   "id": "52472799-43ba-48f8-ae80-7243ace6a913",
   "metadata": {},
   "outputs": [],
   "source": [
    "import torch\n",
    "from transformers import AutoModelForCausalLM, AutoTokenizer\n",
    "from transformers.generation.utils import GenerationConfig\n",
    "import pandas as pd\n",
    "from tqdm import tqdm\n",
    "import ast\n",
    "\n",
    "from transformers import AutoTokenizer, AutoModelForCausalLM\n",
    "import transformers\n",
    "import torch"
   ]
  },
  {
   "cell_type": "markdown",
   "id": "72515ee7-608d-4313-afcb-f9bdda8d3575",
   "metadata": {},
   "source": [
    "# Data Augmentation Using LLMs"
   ]
  },
  {
   "cell_type": "markdown",
   "id": "00927026-09f6-4f0c-9ac8-458d74f907e5",
   "metadata": {},
   "source": [
    "In this notebook, data augmentation using llms is explored and shown how to do this with an instruction based model.\n",
    "\n",
    "Paper:\n",
    "\n",
    "* Shorten, C., Khoshgoftaar, T. M., & Furht, B. (2021). Text data augmentation for deep learning. Journal of big Data, 8, 1-34."
   ]
  },
  {
   "cell_type": "markdown",
   "id": "8de7ba66-6cd9-45eb-9127-481cecb28908",
   "metadata": {},
   "source": [
    "## Loading model"
   ]
  },
  {
   "cell_type": "code",
   "execution_count": 2,
   "id": "68ba627f-c951-411a-9b4d-9d9d5dbb1897",
   "metadata": {},
   "outputs": [
    {
     "data": {
      "text/plain": [
       "True"
      ]
     },
     "execution_count": 2,
     "metadata": {},
     "output_type": "execute_result"
    }
   ],
   "source": [
    "torch.cuda.is_available()"
   ]
  },
  {
   "cell_type": "code",
   "execution_count": 3,
   "id": "2a075c4d-56df-4962-926a-b38609e0645e",
   "metadata": {},
   "outputs": [
    {
     "name": "stderr",
     "output_type": "stream",
     "text": [
      "\n",
      "WARNING: You are currently loading Falcon using legacy code contained in the model repository. Falcon has now been fully ported into the Hugging Face transformers library. For the most up-to-date and high-performance version of the Falcon model code, please update to the latest version of transformers and then load the model without the trust_remote_code=True argument.\n",
      "\n"
     ]
    },
    {
     "data": {
      "application/vnd.jupyter.widget-view+json": {
       "model_id": "7f5708f9e1844445a9959b2c8510ebb0",
       "version_major": 2,
       "version_minor": 0
      },
      "text/plain": [
       "Loading checkpoint shards:   0%|          | 0/2 [00:00<?, ?it/s]"
      ]
     },
     "metadata": {},
     "output_type": "display_data"
    }
   ],
   "source": [
    "model = \"tiiuae/falcon-7b-instruct\"\n",
    "\n",
    "tokenizer = AutoTokenizer.from_pretrained(model)\n",
    "pipeline = transformers.pipeline(\n",
    "    \"text-generation\",\n",
    "    model=model,\n",
    "    tokenizer=tokenizer,\n",
    "    trust_remote_code=True,\n",
    "    device_map=\"auto\",\n",
    ")"
   ]
  },
  {
   "cell_type": "markdown",
   "id": "cd3f84cc-3dfb-44e2-9ad5-ed826a3ceaef",
   "metadata": {},
   "source": [
    "## Augmentation"
   ]
  },
  {
   "cell_type": "code",
   "execution_count": 12,
   "id": "4117b8fc-2a5f-4e05-bc4a-fd660491473b",
   "metadata": {},
   "outputs": [
    {
     "name": "stderr",
     "output_type": "stream",
     "text": [
      "Setting `pad_token_id` to `eos_token_id`:11 for open-end generation.\n",
      "Setting `pad_token_id` to `eos_token_id`:11 for open-end generation.\n"
     ]
    },
    {
     "name": "stdout",
     "output_type": "stream",
     "text": [
      "happy\n",
      "- The melody brings a sense joy and contentment to me.\n",
      "- The melody brings joy to my soul.\n",
      "- The cheerful melody brings a smile to my face.\n",
      "- The melodious tunes this music carries evoke feelings of joy and delight within me\n",
      "- This music brings me joy.\n",
      "- The melody brings me joy.\n",
      "- This piece of music causes an emotional response of happiness in me.\n",
      "- The melody brings a feeling of joy to me.\n",
      "- The melody of this song fills me with joy and contentment\n",
      "- The pleasant melodies evoke a feeling of happiness within me.\n",
      "-\n"
     ]
    },
    {
     "name": "stderr",
     "output_type": "stream",
     "text": [
      "Setting `pad_token_id` to `eos_token_id`:11 for open-end generation.\n"
     ]
    },
    {
     "name": "stdout",
     "output_type": "stream",
     "text": [
      "sad\n",
      "- The music I am listening to currently evokes a feeling of sadness in me.\n",
      "- This music evokes feelings of sadness in me.\n",
      "- The music I am listening to is causing sorrow.\n",
      "- The melodies evoke feelings of sadness within me.\n",
      "- The melody evokes feelings of sadness within me\n",
      "- The music is causing me to feel unhappy.\n",
      "- The music I am currently listening to is causing me emotional distress.\n",
      "- The music I just heard left me feeling melancholic.\n",
      "- The music evokes feelings of sadness within me.\n",
      "- This music evokes feelings of sadness within me.\n",
      "-\n",
      "power\n",
      "- This music brings me joy and a sense of power.\n",
      "- This music elates me and gives me strength.\n",
      "- The upbeat melodies of this music provide me with a surge of happiness and energy.\n",
      "- Listening to this music gives me an emotional boost and a sense of empowerment.\n",
      "- The upbeat tunes uplift the mood, providing me with a surge of power.\n",
      "- The music brings me joy and happiness.\n",
      "- The music elates me and provides me with a feeling of power.\n",
      "- The music makes me feel strong and in control.\n",
      "- The melody brings me joy and elation, empowering me to tackle life's challenges with newfound enthusiasm.\n",
      "- The cheerful melody evokes feelings of strength and confidence in me.\n",
      "-\n"
     ]
    }
   ],
   "source": [
    "emotions = [\"happy\", \"sad\", \"power\"]\n",
    "\n",
    "for emotion in emotions:\n",
    "    # The formulation of the prompt is the most important, what helps:\n",
    "    # Putting \" at the end, expecting or the data also in ''.\n",
    "    # Putting clear instructions / commands in the prompt.\n",
    "    sequences = pipeline(\n",
    "           f\"Given the emotion '{emotion}'. Reformulate this sentence: 'This music makes me {emotion}'. Reformulation: \\\"\",\n",
    "            max_length=200,\n",
    "            do_sample=True,\n",
    "            top_k=10,\n",
    "            num_return_sequences=10,\n",
    "            eos_token_id=tokenizer.eos_token_id,\n",
    "    )\n",
    "    print(emotion)\n",
    "    for seq in sequences:\n",
    "        try:\n",
    "            name = seq['generated_text'].split(\"Reformulation: \")[-1].split(\"\\n\")[0].split(\"\\\"\")[1]\n",
    "        \n",
    "            print(\"-\", name)\n",
    "        except:\n",
    "            print(seq)\n",
    "    print(\"-\")"
   ]
  },
  {
   "cell_type": "code",
   "execution_count": 13,
   "id": "3855c78b-5cb3-4865-8725-82a8525ef145",
   "metadata": {},
   "outputs": [
    {
     "name": "stderr",
     "output_type": "stream",
     "text": [
      "/home/annah/miniconda3/envs/intent/lib/python3.10/site-packages/transformers/pipelines/base.py:1101: UserWarning: You seem to be using the pipelines sequentially on GPU. In order to maximize efficiency please use a dataset\n",
      "  warnings.warn(\n",
      "Setting `pad_token_id` to `eos_token_id`:11 for open-end generation.\n",
      "Setting `pad_token_id` to `eos_token_id`:11 for open-end generation.\n"
     ]
    },
    {
     "name": "stdout",
     "output_type": "stream",
     "text": [
      "happy\n",
      "- Listening to this music track fills me with joy and elation.\n",
      "- The upbeat melody is making my day,\n",
      "- Listening to this music makes me happy\n",
      "- This particular track makes me feel joyful.\n",
      "- Listening to this music makes me happy\n",
      "- This tune brings a smile to my face.\n",
      "- This music brings me joy\n",
      "- This music track brings me joy\n",
      "- This tune brings me joy,\n",
      "- This music track brings me joy\n",
      "-\n"
     ]
    },
    {
     "name": "stderr",
     "output_type": "stream",
     "text": [
      "Setting `pad_token_id` to `eos_token_id`:11 for open-end generation.\n"
     ]
    },
    {
     "name": "stdout",
     "output_type": "stream",
     "text": [
      "sad\n",
      "- The melancholic melody evokes feelings of sadness within me.\n",
      "- This melancholic melody brings me down\n",
      "- This piece of music brings me down.\n",
      "- This music track is depressing me\n",
      "- The melody evokes an feeling of melancholy.\n",
      "- Listening to this music makes me melancholy,\n",
      "- This melancholy melody is a downer for me.\n",
      "- This music track brings tears to my eyes\n",
      "- I'm not in the mood for this music track right now,\n",
      "- This piece of music evokes a feeling of sadness in me.\n",
      "-\n",
      "power\n",
      "- The music track is empowering me.\n",
      "- This music track is energizing\n",
      "- This music track gives me power.\n",
      "- This music makes me feel powerful.\n",
      "- This music track gives me strength,\n",
      "- This music track empowers me\n",
      "- This music track invigorates me.\n",
      "- This song gives me a sense of power.\n",
      "- This music track invigorates me.\n",
      "- The music is empowering me.\n",
      "-\n"
     ]
    }
   ],
   "source": [
    "emotions = [\"happy\", \"sad\", \"power\"]\n",
    "\n",
    "for emotion in emotions:\n",
    "    sequences = pipeline(\n",
    "           f\"Give different sentences of the same meaning: 'This music track makes me {emotion}'. Sentences: \\\"\",\n",
    "            max_length=200,\n",
    "            do_sample=True,\n",
    "            top_k=10,\n",
    "            num_return_sequences=10,\n",
    "            eos_token_id=tokenizer.eos_token_id,\n",
    "    )\n",
    "    print(emotion)\n",
    "    for seq in sequences:\n",
    "        try:\n",
    "            name = seq['generated_text'].split(\"Reformulation: \")[-1].split(\"\\n\")[0].split(\"\\\"\")[1]\n",
    "        \n",
    "            print(\"-\", name)\n",
    "        except:\n",
    "            print(seq)\n",
    "    print(\"-\")"
   ]
  },
  {
   "cell_type": "code",
   "execution_count": 6,
   "id": "e17ba871-289e-4223-876e-4f72b5739389",
   "metadata": {},
   "outputs": [
    {
     "name": "stderr",
     "output_type": "stream",
     "text": [
      "Setting `pad_token_id` to `eos_token_id`:11 for open-end generation.\n"
     ]
    },
    {
     "name": "stdout",
     "output_type": "stream",
     "text": [
      "Emotional metal with melodic breaks\n",
      "- to create intense, emotional songs.\n",
      "- I'm not a big fan of this genre. \n",
      "- I wanted to compose a melodic piece that had a deep emotional impact.\n",
      "- I need help choosing an appropriate song for my emotional metal project\n",
      "- Emotional\n",
      "- Metal\n",
      "- to emotionally engage the listener by combining metal with melodic elements\n",
      "- A metal post\n",
      "- I want to write about music that evokes strong emotions.\n",
      "- to evoke strong emotions\n",
      "-\n"
     ]
    }
   ],
   "source": [
    "post = \"Emotional metal with melodic breaks\"\n",
    "\n",
    "sequences = pipeline(\n",
    "    f\"Analyze this post title: '{post}' on basis of intention. Intent: \\\"\",\n",
    "    max_length=200,\n",
    "    do_sample=True,\n",
    "    top_k=10,\n",
    "    num_return_sequences=10,\n",
    "    eos_token_id=tokenizer.eos_token_id,\n",
    ")\n",
    "print(post)\n",
    "for seq in sequences:\n",
    "    try:\n",
    "        name = seq['generated_text'].split(\"Reformulation: \")[-1].split(\"\\n\")[0].split(\"\\\"\")[1]\n",
    "        \n",
    "        print(\"-\", name)\n",
    "    except:\n",
    "        print(seq)\n",
    "print(\"-\")"
   ]
  },
  {
   "cell_type": "code",
   "execution_count": null,
   "id": "ebdd4965-0a43-4674-8b3f-a35374432ed0",
   "metadata": {},
   "outputs": [],
   "source": []
  }
 ],
 "metadata": {
  "kernelspec": {
   "display_name": "Python 3 (ipykernel)",
   "language": "python",
   "name": "python3"
  },
  "language_info": {
   "codemirror_mode": {
    "name": "ipython",
    "version": 3
   },
   "file_extension": ".py",
   "mimetype": "text/x-python",
   "name": "python",
   "nbconvert_exporter": "python",
   "pygments_lexer": "ipython3",
   "version": "3.10.13"
  }
 },
 "nbformat": 4,
 "nbformat_minor": 5
}
